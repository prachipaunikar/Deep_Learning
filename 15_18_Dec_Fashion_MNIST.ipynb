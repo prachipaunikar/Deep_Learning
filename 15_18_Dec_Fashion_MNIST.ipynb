{
 "cells": [
  {
   "cell_type": "code",
   "execution_count": 1,
   "id": "fa1d046a",
   "metadata": {},
   "outputs": [
    {
     "name": "stdout",
     "output_type": "stream",
     "text": [
      "[PhysicalDevice(name='/physical_device:GPU:0', device_type='GPU')]\n"
     ]
    }
   ],
   "source": [
    "# only for cuda enabled laptop and desktop\n",
    "import tensorflow as tf\n",
    "physical_devices = tf.config.experimental.list_physical_devices('GPU')\n",
    "print(physical_devices)\n",
    "if physical_devices:\n",
    "  tf.config.experimental.set_memory_growth(physical_devices[0], True)"
   ]
  },
  {
   "cell_type": "code",
   "execution_count": 2,
   "id": "26c0a54a",
   "metadata": {},
   "outputs": [
    {
     "name": "stdout",
     "output_type": "stream",
     "text": [
      "2.6.2\n",
      "1.19.5\n"
     ]
    }
   ],
   "source": [
    "# TensorFlow and tf.keras\n",
    "import tensorflow as tf\n",
    "from tensorflow import keras\n",
    "\n",
    "# Helper libraries\n",
    "import numpy as np\n",
    "import matplotlib.pyplot as plt\n",
    "\n",
    "print(tf.__version__)\n",
    "print(np.__version__)"
   ]
  },
  {
   "cell_type": "code",
   "execution_count": 3,
   "id": "7e2afbaa",
   "metadata": {},
   "outputs": [],
   "source": [
    "fashion_mnist = keras.datasets.fashion_mnist\n",
    "\n",
    "(train_images, train_labels), (test_images, test_labels) = fashion_mnist.load_data()"
   ]
  },
  {
   "cell_type": "code",
   "execution_count": 4,
   "id": "51d1d354",
   "metadata": {},
   "outputs": [
    {
     "data": {
      "text/plain": [
       "(60000, 28, 28)"
      ]
     },
     "execution_count": 4,
     "metadata": {},
     "output_type": "execute_result"
    }
   ],
   "source": [
    "train_images.shape"
   ]
  },
  {
   "cell_type": "code",
   "execution_count": 5,
   "id": "2ab2a759",
   "metadata": {},
   "outputs": [
    {
     "data": {
      "text/plain": [
       "(10000, 28, 28)"
      ]
     },
     "execution_count": 5,
     "metadata": {},
     "output_type": "execute_result"
    }
   ],
   "source": [
    "test_images.shape"
   ]
  },
  {
   "cell_type": "code",
   "execution_count": 6,
   "id": "2212378c",
   "metadata": {},
   "outputs": [
    {
     "data": {
      "text/plain": [
       "array([9, 0, 0, ..., 3, 0, 5], dtype=uint8)"
      ]
     },
     "execution_count": 6,
     "metadata": {},
     "output_type": "execute_result"
    }
   ],
   "source": [
    "train_labels"
   ]
  },
  {
   "cell_type": "code",
   "execution_count": 7,
   "id": "93c00423",
   "metadata": {},
   "outputs": [
    {
     "data": {
      "text/plain": [
       "array([[  0,   0,   0,   0,   0,   0,   0,   0,   0,   0,   0,   0,   0,\n",
       "          0,   0,   0,   0,   0,   0,   0,   0,   0,   0,   0,   0,   0,\n",
       "          0,   0],\n",
       "       [  0,   0,   0,   0,   0,   0,   0,   0,   0,   0,   0,   0,   0,\n",
       "          0,   0,   0,   0,   0,   0,   0,   0,   0,   0,   0,   0,   0,\n",
       "          0,   0],\n",
       "       [  0,   0,   0,   0,   0,   0,   0,   0,   0,   0,   0,   0,   0,\n",
       "          0,   0,   0,   0,   0,   0,   0,   0,   0,   0,   0,   0,   0,\n",
       "          0,   0],\n",
       "       [  0,   0,   0,   0,   0,   0,   0,   0,   0,   0,   0,   0,   1,\n",
       "          0,   0,  13,  73,   0,   0,   1,   4,   0,   0,   0,   0,   1,\n",
       "          1,   0],\n",
       "       [  0,   0,   0,   0,   0,   0,   0,   0,   0,   0,   0,   0,   3,\n",
       "          0,  36, 136, 127,  62,  54,   0,   0,   0,   1,   3,   4,   0,\n",
       "          0,   3],\n",
       "       [  0,   0,   0,   0,   0,   0,   0,   0,   0,   0,   0,   0,   6,\n",
       "          0, 102, 204, 176, 134, 144, 123,  23,   0,   0,   0,   0,  12,\n",
       "         10,   0],\n",
       "       [  0,   0,   0,   0,   0,   0,   0,   0,   0,   0,   0,   0,   0,\n",
       "          0, 155, 236, 207, 178, 107, 156, 161, 109,  64,  23,  77, 130,\n",
       "         72,  15],\n",
       "       [  0,   0,   0,   0,   0,   0,   0,   0,   0,   0,   0,   1,   0,\n",
       "         69, 207, 223, 218, 216, 216, 163, 127, 121, 122, 146, 141,  88,\n",
       "        172,  66],\n",
       "       [  0,   0,   0,   0,   0,   0,   0,   0,   0,   1,   1,   1,   0,\n",
       "        200, 232, 232, 233, 229, 223, 223, 215, 213, 164, 127, 123, 196,\n",
       "        229,   0],\n",
       "       [  0,   0,   0,   0,   0,   0,   0,   0,   0,   0,   0,   0,   0,\n",
       "        183, 225, 216, 223, 228, 235, 227, 224, 222, 224, 221, 223, 245,\n",
       "        173,   0],\n",
       "       [  0,   0,   0,   0,   0,   0,   0,   0,   0,   0,   0,   0,   0,\n",
       "        193, 228, 218, 213, 198, 180, 212, 210, 211, 213, 223, 220, 243,\n",
       "        202,   0],\n",
       "       [  0,   0,   0,   0,   0,   0,   0,   0,   0,   1,   3,   0,  12,\n",
       "        219, 220, 212, 218, 192, 169, 227, 208, 218, 224, 212, 226, 197,\n",
       "        209,  52],\n",
       "       [  0,   0,   0,   0,   0,   0,   0,   0,   0,   0,   6,   0,  99,\n",
       "        244, 222, 220, 218, 203, 198, 221, 215, 213, 222, 220, 245, 119,\n",
       "        167,  56],\n",
       "       [  0,   0,   0,   0,   0,   0,   0,   0,   0,   4,   0,   0,  55,\n",
       "        236, 228, 230, 228, 240, 232, 213, 218, 223, 234, 217, 217, 209,\n",
       "         92,   0],\n",
       "       [  0,   0,   1,   4,   6,   7,   2,   0,   0,   0,   0,   0, 237,\n",
       "        226, 217, 223, 222, 219, 222, 221, 216, 223, 229, 215, 218, 255,\n",
       "         77,   0],\n",
       "       [  0,   3,   0,   0,   0,   0,   0,   0,   0,  62, 145, 204, 228,\n",
       "        207, 213, 221, 218, 208, 211, 218, 224, 223, 219, 215, 224, 244,\n",
       "        159,   0],\n",
       "       [  0,   0,   0,   0,  18,  44,  82, 107, 189, 228, 220, 222, 217,\n",
       "        226, 200, 205, 211, 230, 224, 234, 176, 188, 250, 248, 233, 238,\n",
       "        215,   0],\n",
       "       [  0,  57, 187, 208, 224, 221, 224, 208, 204, 214, 208, 209, 200,\n",
       "        159, 245, 193, 206, 223, 255, 255, 221, 234, 221, 211, 220, 232,\n",
       "        246,   0],\n",
       "       [  3, 202, 228, 224, 221, 211, 211, 214, 205, 205, 205, 220, 240,\n",
       "         80, 150, 255, 229, 221, 188, 154, 191, 210, 204, 209, 222, 228,\n",
       "        225,   0],\n",
       "       [ 98, 233, 198, 210, 222, 229, 229, 234, 249, 220, 194, 215, 217,\n",
       "        241,  65,  73, 106, 117, 168, 219, 221, 215, 217, 223, 223, 224,\n",
       "        229,  29],\n",
       "       [ 75, 204, 212, 204, 193, 205, 211, 225, 216, 185, 197, 206, 198,\n",
       "        213, 240, 195, 227, 245, 239, 223, 218, 212, 209, 222, 220, 221,\n",
       "        230,  67],\n",
       "       [ 48, 203, 183, 194, 213, 197, 185, 190, 194, 192, 202, 214, 219,\n",
       "        221, 220, 236, 225, 216, 199, 206, 186, 181, 177, 172, 181, 205,\n",
       "        206, 115],\n",
       "       [  0, 122, 219, 193, 179, 171, 183, 196, 204, 210, 213, 207, 211,\n",
       "        210, 200, 196, 194, 191, 195, 191, 198, 192, 176, 156, 167, 177,\n",
       "        210,  92],\n",
       "       [  0,   0,  74, 189, 212, 191, 175, 172, 175, 181, 185, 188, 189,\n",
       "        188, 193, 198, 204, 209, 210, 210, 211, 188, 188, 194, 192, 216,\n",
       "        170,   0],\n",
       "       [  2,   0,   0,   0,  66, 200, 222, 237, 239, 242, 246, 243, 244,\n",
       "        221, 220, 193, 191, 179, 182, 182, 181, 176, 166, 168,  99,  58,\n",
       "          0,   0],\n",
       "       [  0,   0,   0,   0,   0,   0,   0,  40,  61,  44,  72,  41,  35,\n",
       "          0,   0,   0,   0,   0,   0,   0,   0,   0,   0,   0,   0,   0,\n",
       "          0,   0],\n",
       "       [  0,   0,   0,   0,   0,   0,   0,   0,   0,   0,   0,   0,   0,\n",
       "          0,   0,   0,   0,   0,   0,   0,   0,   0,   0,   0,   0,   0,\n",
       "          0,   0],\n",
       "       [  0,   0,   0,   0,   0,   0,   0,   0,   0,   0,   0,   0,   0,\n",
       "          0,   0,   0,   0,   0,   0,   0,   0,   0,   0,   0,   0,   0,\n",
       "          0,   0]], dtype=uint8)"
      ]
     },
     "execution_count": 7,
     "metadata": {},
     "output_type": "execute_result"
    }
   ],
   "source": [
    "train_images[0]"
   ]
  },
  {
   "cell_type": "code",
   "execution_count": 8,
   "id": "2a470a15",
   "metadata": {},
   "outputs": [
    {
     "data": {
      "image/png": "[encoded data removed]",
      "text/plain": [
       "<Figure size 432x288 with 1 Axes>"
      ]
     },
     "metadata": {},
     "output_type": "display_data"
    }
   ],
   "source": [
    "plt.imshow(train_images[0],cmap='gray_r')\n",
    "plt.title(train_labels[0])\n",
    "plt.xticks([])\n",
    "plt.yticks([])\n",
    "plt.show()"
   ]
  },
  {
   "cell_type": "code",
   "execution_count": 9,
   "id": "56088901",
   "metadata": {},
   "outputs": [
    {
     "data": {
      "image/png": "[encoded data removed]",
      "text/plain": [
       "<Figure size 432x288 with 1 Axes>"
      ]
     },
     "metadata": {},
     "output_type": "display_data"
    }
   ],
   "source": [
    "plt.imshow(train_images[2],cmap='gray_r')\n",
    "plt.title(train_labels[2])\n",
    "plt.xticks([])\n",
    "plt.yticks([])\n",
    "plt.show()"
   ]
  },
  {
   "cell_type": "code",
   "execution_count": 10,
   "id": "3d667be4",
   "metadata": {},
   "outputs": [],
   "source": [
    "class_names = ['T-shirt/top','Trouser','Pullover','Dress','Coat','Sandal','Shirt','Sneaker','Bag','Ankle boot']"
   ]
  },
  {
   "cell_type": "code",
   "execution_count": 11,
   "id": "1b75f7c9",
   "metadata": {},
   "outputs": [
    {
     "data": {
      "text/plain": [
       "['T-shirt/top',\n",
       " 'Trouser',\n",
       " 'Pullover',\n",
       " 'Dress',\n",
       " 'Coat',\n",
       " 'Sandal',\n",
       " 'Shirt',\n",
       " 'Sneaker',\n",
       " 'Bag',\n",
       " 'Ankle boot']"
      ]
     },
     "execution_count": 11,
     "metadata": {},
     "output_type": "execute_result"
    }
   ],
   "source": [
    "class_names"
   ]
  },
  {
   "cell_type": "code",
   "execution_count": 12,
   "id": "eb6433d7",
   "metadata": {},
   "outputs": [
    {
     "data": {
      "text/plain": [
       "'Ankle boot'"
      ]
     },
     "execution_count": 12,
     "metadata": {},
     "output_type": "execute_result"
    }
   ],
   "source": [
    "class_names[train_labels[0]]"
   ]
  },
  {
   "cell_type": "code",
   "execution_count": 13,
   "id": "1367f9c8",
   "metadata": {},
   "outputs": [
    {
     "data": {
      "image/png": "[encoded data removed]",
      "text/plain": [
       "<Figure size 432x288 with 1 Axes>"
      ]
     },
     "metadata": {},
     "output_type": "display_data"
    }
   ],
   "source": [
    "plt.imshow(train_images[0],cmap='gray_r')\n",
    "plt.title(class_names[train_labels[0]])\n",
    "plt.xticks([])\n",
    "plt.yticks([])\n",
    "plt.show()"
   ]
  },
  {
   "cell_type": "code",
   "execution_count": 14,
   "id": "88fa0570",
   "metadata": {},
   "outputs": [
    {
     "data": {
      "image/png": "[encoded data removed]",
      "text/plain": [
       "<Figure size 720x720 with 25 Axes>"
      ]
     },
     "metadata": {},
     "output_type": "display_data"
    }
   ],
   "source": [
    "plt.figure(figsize=(10,10))\n",
    "for i in range(25):\n",
    "    plt.subplot(5,5,i+1)\n",
    "    plt.xticks([])\n",
    "    plt.yticks([])\n",
    "    plt.grid(False)\n",
    "    plt.imshow(train_images[i],cmap=plt.cm.binary)\n",
    "    plt.xlabel(class_names[train_labels[i]])\n",
    "plt.tight_layout() \n",
    "plt.show()"
   ]
  },
  {
   "cell_type": "code",
   "execution_count": 15,
   "id": "821e546f",
   "metadata": {},
   "outputs": [],
   "source": [
    "train_images = train_images / 255.0\n",
    "\n",
    "test_images = test_images / 255.0"
   ]
  },
  {
   "cell_type": "code",
   "execution_count": 16,
   "id": "7489049f",
   "metadata": {},
   "outputs": [
    {
     "data": {
      "text/plain": [
       "array([[0.        , 0.        , 0.        , 0.        , 0.        ,\n",
       "        0.        , 0.        , 0.        , 0.        , 0.        ,\n",
       "        0.        , 0.        , 0.        , 0.        , 0.        ,\n",
       "        0.        , 0.        , 0.        , 0.        , 0.        ,\n",
       "        0.        , 0.        , 0.        , 0.        , 0.        ,\n",
       "        0.        , 0.        , 0.        ],\n",
       "       [0.        , 0.        , 0.        , 0.        , 0.        ,\n",
       "        0.        , 0.        , 0.        , 0.        , 0.        ,\n",
       "        0.        , 0.        , 0.        , 0.        , 0.        ,\n",
       "        0.        , 0.        , 0.        , 0.        , 0.        ,\n",
       "        0.        , 0.        , 0.        , 0.        , 0.        ,\n",
       "        0.        , 0.        , 0.        ],\n",
       "       [0.        , 0.        , 0.        , 0.        , 0.        ,\n",
       "        0.        , 0.        , 0.        , 0.        , 0.        ,\n",
       "        0.        , 0.        , 0.        , 0.        , 0.        ,\n",
       "        0.        , 0.        , 0.        , 0.        , 0.        ,\n",
       "        0.        , 0.        , 0.        , 0.        , 0.        ,\n",
       "        0.        , 0.        , 0.        ],\n",
       "       [0.        , 0.        , 0.        , 0.        , 0.        ,\n",
       "        0.        , 0.        , 0.        , 0.        , 0.        ,\n",
       "        0.        , 0.        , 0.00392157, 0.        , 0.        ,\n",
       "        0.05098039, 0.28627451, 0.        , 0.        , 0.00392157,\n",
       "        0.01568627, 0.        , 0.        , 0.        , 0.        ,\n",
       "        0.00392157, 0.00392157, 0.        ],\n",
       "       [0.        , 0.        , 0.        , 0.        , 0.        ,\n",
       "        0.        , 0.        , 0.        , 0.        , 0.        ,\n",
       "        0.        , 0.        , 0.01176471, 0.        , 0.14117647,\n",
       "        0.53333333, 0.49803922, 0.24313725, 0.21176471, 0.        ,\n",
       "        0.        , 0.        , 0.00392157, 0.01176471, 0.01568627,\n",
       "        0.        , 0.        , 0.01176471],\n",
       "       [0.        , 0.        , 0.        , 0.        , 0.        ,\n",
       "        0.        , 0.        , 0.        , 0.        , 0.        ,\n",
       "        0.        , 0.        , 0.02352941, 0.        , 0.4       ,\n",
       "        0.8       , 0.69019608, 0.5254902 , 0.56470588, 0.48235294,\n",
       "        0.09019608, 0.        , 0.        , 0.        , 0.        ,\n",
       "        0.04705882, 0.03921569, 0.        ],\n",
       "       [0.        , 0.        , 0.        , 0.        , 0.        ,\n",
       "        0.        , 0.        , 0.        , 0.        , 0.        ,\n",
       "        0.        , 0.        , 0.        , 0.        , 0.60784314,\n",
       "        0.9254902 , 0.81176471, 0.69803922, 0.41960784, 0.61176471,\n",
       "        0.63137255, 0.42745098, 0.25098039, 0.09019608, 0.30196078,\n",
       "        0.50980392, 0.28235294, 0.05882353],\n",
       "       [0.        , 0.        , 0.        , 0.        , 0.        ,\n",
       "        0.        , 0.        , 0.        , 0.        , 0.        ,\n",
       "        0.        , 0.00392157, 0.        , 0.27058824, 0.81176471,\n",
       "        0.8745098 , 0.85490196, 0.84705882, 0.84705882, 0.63921569,\n",
       "        0.49803922, 0.4745098 , 0.47843137, 0.57254902, 0.55294118,\n",
       "        0.34509804, 0.6745098 , 0.25882353],\n",
       "       [0.        , 0.        , 0.        , 0.        , 0.        ,\n",
       "        0.        , 0.        , 0.        , 0.        , 0.00392157,\n",
       "        0.00392157, 0.00392157, 0.        , 0.78431373, 0.90980392,\n",
       "        0.90980392, 0.91372549, 0.89803922, 0.8745098 , 0.8745098 ,\n",
       "        0.84313725, 0.83529412, 0.64313725, 0.49803922, 0.48235294,\n",
       "        0.76862745, 0.89803922, 0.        ],\n",
       "       [0.        , 0.        , 0.        , 0.        , 0.        ,\n",
       "        0.        , 0.        , 0.        , 0.        , 0.        ,\n",
       "        0.        , 0.        , 0.        , 0.71764706, 0.88235294,\n",
       "        0.84705882, 0.8745098 , 0.89411765, 0.92156863, 0.89019608,\n",
       "        0.87843137, 0.87058824, 0.87843137, 0.86666667, 0.8745098 ,\n",
       "        0.96078431, 0.67843137, 0.        ],\n",
       "       [0.        , 0.        , 0.        , 0.        , 0.        ,\n",
       "        0.        , 0.        , 0.        , 0.        , 0.        ,\n",
       "        0.        , 0.        , 0.        , 0.75686275, 0.89411765,\n",
       "        0.85490196, 0.83529412, 0.77647059, 0.70588235, 0.83137255,\n",
       "        0.82352941, 0.82745098, 0.83529412, 0.8745098 , 0.8627451 ,\n",
       "        0.95294118, 0.79215686, 0.        ],\n",
       "       [0.        , 0.        , 0.        , 0.        , 0.        ,\n",
       "        0.        , 0.        , 0.        , 0.        , 0.00392157,\n",
       "        0.01176471, 0.        , 0.04705882, 0.85882353, 0.8627451 ,\n",
       "        0.83137255, 0.85490196, 0.75294118, 0.6627451 , 0.89019608,\n",
       "        0.81568627, 0.85490196, 0.87843137, 0.83137255, 0.88627451,\n",
       "        0.77254902, 0.81960784, 0.20392157],\n",
       "       [0.        , 0.        , 0.        , 0.        , 0.        ,\n",
       "        0.        , 0.        , 0.        , 0.        , 0.        ,\n",
       "        0.02352941, 0.        , 0.38823529, 0.95686275, 0.87058824,\n",
       "        0.8627451 , 0.85490196, 0.79607843, 0.77647059, 0.86666667,\n",
       "        0.84313725, 0.83529412, 0.87058824, 0.8627451 , 0.96078431,\n",
       "        0.46666667, 0.65490196, 0.21960784],\n",
       "       [0.        , 0.        , 0.        , 0.        , 0.        ,\n",
       "        0.        , 0.        , 0.        , 0.        , 0.01568627,\n",
       "        0.        , 0.        , 0.21568627, 0.9254902 , 0.89411765,\n",
       "        0.90196078, 0.89411765, 0.94117647, 0.90980392, 0.83529412,\n",
       "        0.85490196, 0.8745098 , 0.91764706, 0.85098039, 0.85098039,\n",
       "        0.81960784, 0.36078431, 0.        ],\n",
       "       [0.        , 0.        , 0.00392157, 0.01568627, 0.02352941,\n",
       "        0.02745098, 0.00784314, 0.        , 0.        , 0.        ,\n",
       "        0.        , 0.        , 0.92941176, 0.88627451, 0.85098039,\n",
       "        0.8745098 , 0.87058824, 0.85882353, 0.87058824, 0.86666667,\n",
       "        0.84705882, 0.8745098 , 0.89803922, 0.84313725, 0.85490196,\n",
       "        1.        , 0.30196078, 0.        ],\n",
       "       [0.        , 0.01176471, 0.        , 0.        , 0.        ,\n",
       "        0.        , 0.        , 0.        , 0.        , 0.24313725,\n",
       "        0.56862745, 0.8       , 0.89411765, 0.81176471, 0.83529412,\n",
       "        0.86666667, 0.85490196, 0.81568627, 0.82745098, 0.85490196,\n",
       "        0.87843137, 0.8745098 , 0.85882353, 0.84313725, 0.87843137,\n",
       "        0.95686275, 0.62352941, 0.        ],\n",
       "       [0.        , 0.        , 0.        , 0.        , 0.07058824,\n",
       "        0.17254902, 0.32156863, 0.41960784, 0.74117647, 0.89411765,\n",
       "        0.8627451 , 0.87058824, 0.85098039, 0.88627451, 0.78431373,\n",
       "        0.80392157, 0.82745098, 0.90196078, 0.87843137, 0.91764706,\n",
       "        0.69019608, 0.7372549 , 0.98039216, 0.97254902, 0.91372549,\n",
       "        0.93333333, 0.84313725, 0.        ],\n",
       "       [0.        , 0.22352941, 0.73333333, 0.81568627, 0.87843137,\n",
       "        0.86666667, 0.87843137, 0.81568627, 0.8       , 0.83921569,\n",
       "        0.81568627, 0.81960784, 0.78431373, 0.62352941, 0.96078431,\n",
       "        0.75686275, 0.80784314, 0.8745098 , 1.        , 1.        ,\n",
       "        0.86666667, 0.91764706, 0.86666667, 0.82745098, 0.8627451 ,\n",
       "        0.90980392, 0.96470588, 0.        ],\n",
       "       [0.01176471, 0.79215686, 0.89411765, 0.87843137, 0.86666667,\n",
       "        0.82745098, 0.82745098, 0.83921569, 0.80392157, 0.80392157,\n",
       "        0.80392157, 0.8627451 , 0.94117647, 0.31372549, 0.58823529,\n",
       "        1.        , 0.89803922, 0.86666667, 0.7372549 , 0.60392157,\n",
       "        0.74901961, 0.82352941, 0.8       , 0.81960784, 0.87058824,\n",
       "        0.89411765, 0.88235294, 0.        ],\n",
       "       [0.38431373, 0.91372549, 0.77647059, 0.82352941, 0.87058824,\n",
       "        0.89803922, 0.89803922, 0.91764706, 0.97647059, 0.8627451 ,\n",
       "        0.76078431, 0.84313725, 0.85098039, 0.94509804, 0.25490196,\n",
       "        0.28627451, 0.41568627, 0.45882353, 0.65882353, 0.85882353,\n",
       "        0.86666667, 0.84313725, 0.85098039, 0.8745098 , 0.8745098 ,\n",
       "        0.87843137, 0.89803922, 0.11372549],\n",
       "       [0.29411765, 0.8       , 0.83137255, 0.8       , 0.75686275,\n",
       "        0.80392157, 0.82745098, 0.88235294, 0.84705882, 0.7254902 ,\n",
       "        0.77254902, 0.80784314, 0.77647059, 0.83529412, 0.94117647,\n",
       "        0.76470588, 0.89019608, 0.96078431, 0.9372549 , 0.8745098 ,\n",
       "        0.85490196, 0.83137255, 0.81960784, 0.87058824, 0.8627451 ,\n",
       "        0.86666667, 0.90196078, 0.2627451 ],\n",
       "       [0.18823529, 0.79607843, 0.71764706, 0.76078431, 0.83529412,\n",
       "        0.77254902, 0.7254902 , 0.74509804, 0.76078431, 0.75294118,\n",
       "        0.79215686, 0.83921569, 0.85882353, 0.86666667, 0.8627451 ,\n",
       "        0.9254902 , 0.88235294, 0.84705882, 0.78039216, 0.80784314,\n",
       "        0.72941176, 0.70980392, 0.69411765, 0.6745098 , 0.70980392,\n",
       "        0.80392157, 0.80784314, 0.45098039],\n",
       "       [0.        , 0.47843137, 0.85882353, 0.75686275, 0.70196078,\n",
       "        0.67058824, 0.71764706, 0.76862745, 0.8       , 0.82352941,\n",
       "        0.83529412, 0.81176471, 0.82745098, 0.82352941, 0.78431373,\n",
       "        0.76862745, 0.76078431, 0.74901961, 0.76470588, 0.74901961,\n",
       "        0.77647059, 0.75294118, 0.69019608, 0.61176471, 0.65490196,\n",
       "        0.69411765, 0.82352941, 0.36078431],\n",
       "       [0.        , 0.        , 0.29019608, 0.74117647, 0.83137255,\n",
       "        0.74901961, 0.68627451, 0.6745098 , 0.68627451, 0.70980392,\n",
       "        0.7254902 , 0.7372549 , 0.74117647, 0.7372549 , 0.75686275,\n",
       "        0.77647059, 0.8       , 0.81960784, 0.82352941, 0.82352941,\n",
       "        0.82745098, 0.7372549 , 0.7372549 , 0.76078431, 0.75294118,\n",
       "        0.84705882, 0.66666667, 0.        ],\n",
       "       [0.00784314, 0.        , 0.        , 0.        , 0.25882353,\n",
       "        0.78431373, 0.87058824, 0.92941176, 0.9372549 , 0.94901961,\n",
       "        0.96470588, 0.95294118, 0.95686275, 0.86666667, 0.8627451 ,\n",
       "        0.75686275, 0.74901961, 0.70196078, 0.71372549, 0.71372549,\n",
       "        0.70980392, 0.69019608, 0.65098039, 0.65882353, 0.38823529,\n",
       "        0.22745098, 0.        , 0.        ],\n",
       "       [0.        , 0.        , 0.        , 0.        , 0.        ,\n",
       "        0.        , 0.        , 0.15686275, 0.23921569, 0.17254902,\n",
       "        0.28235294, 0.16078431, 0.1372549 , 0.        , 0.        ,\n",
       "        0.        , 0.        , 0.        , 0.        , 0.        ,\n",
       "        0.        , 0.        , 0.        , 0.        , 0.        ,\n",
       "        0.        , 0.        , 0.        ],\n",
       "       [0.        , 0.        , 0.        , 0.        , 0.        ,\n",
       "        0.        , 0.        , 0.        , 0.        , 0.        ,\n",
       "        0.        , 0.        , 0.        , 0.        , 0.        ,\n",
       "        0.        , 0.        , 0.        , 0.        , 0.        ,\n",
       "        0.        , 0.        , 0.        , 0.        , 0.        ,\n",
       "        0.        , 0.        , 0.        ],\n",
       "       [0.        , 0.        , 0.        , 0.        , 0.        ,\n",
       "        0.        , 0.        , 0.        , 0.        , 0.        ,\n",
       "        0.        , 0.        , 0.        , 0.        , 0.        ,\n",
       "        0.        , 0.        , 0.        , 0.        , 0.        ,\n",
       "        0.        , 0.        , 0.        , 0.        , 0.        ,\n",
       "        0.        , 0.        , 0.        ]])"
      ]
     },
     "execution_count": 16,
     "metadata": {},
     "output_type": "execute_result"
    }
   ],
   "source": [
    "train_images[0]"
   ]
  },
  {
   "cell_type": "code",
   "execution_count": 17,
   "id": "a873d2ea",
   "metadata": {},
   "outputs": [],
   "source": [
    "model = keras.Sequential([\n",
    "    keras.layers.Flatten(input_shape=(28, 28)),\n",
    "    keras.layers.Dense(512, activation='relu'),\n",
    "    keras.layers.Dense(10,'softmax')\n",
    "])"
   ]
  },
  {
   "cell_type": "code",
   "execution_count": 18,
   "id": "334e9303",
   "metadata": {},
   "outputs": [
    {
     "name": "stdout",
     "output_type": "stream",
     "text": [
      "Model: \"sequential\"\n",
      "_________________________________________________________________\n",
      "Layer (type)                 Output Shape              Param #   \n",
      "=================================================================\n",
      "flatten (Flatten)            (None, 784)               0         \n",
      "_________________________________________________________________\n",
      "dense (Dense)                (None, 512)               401920    \n",
      "_________________________________________________________________\n",
      "dense_1 (Dense)              (None, 10)                5130      \n",
      "=================================================================\n",
      "Total params: 407,050\n",
      "Trainable params: 407,050\n",
      "Non-trainable params: 0\n",
      "_________________________________________________________________\n"
     ]
    }
   ],
   "source": [
    "model.summary()"
   ]
  },
  {
   "cell_type": "code",
   "execution_count": 19,
   "id": "3a153033",
   "metadata": {},
   "outputs": [],
   "source": [
    "model.compile(optimizer='adam',loss='sparse_categorical_crossentropy',metrics=['accuracy'])"
   ]
  },
  {
   "cell_type": "code",
   "execution_count": 20,
   "id": "8dfc00cb",
   "metadata": {},
   "outputs": [
    {
     "name": "stdout",
     "output_type": "stream",
     "text": [
      "Epoch 1/50\n",
      "1500/1500 [==============================] - 5s 2ms/step - loss: 0.4965 - accuracy: 0.8229 - val_loss: 0.4089 - val_accuracy: 0.8560\n",
      "Epoch 2/50\n",
      "1500/1500 [==============================] - 2s 2ms/step - loss: 0.3674 - accuracy: 0.8646 - val_loss: 0.3915 - val_accuracy: 0.8564\n",
      "Epoch 3/50\n",
      "1500/1500 [==============================] - 2s 2ms/step - loss: 0.3306 - accuracy: 0.8773 - val_loss: 0.3844 - val_accuracy: 0.8560\n",
      "Epoch 4/50\n",
      "1500/1500 [==============================] - 2s 2ms/step - loss: 0.3067 - accuracy: 0.8865 - val_loss: 0.3360 - val_accuracy: 0.8773\n",
      "Epoch 5/50\n",
      "1500/1500 [==============================] - 2s 2ms/step - loss: 0.2851 - accuracy: 0.8936 - val_loss: 0.3311 - val_accuracy: 0.8778\n",
      "Epoch 6/50\n",
      "1500/1500 [==============================] - 2s 2ms/step - loss: 0.2709 - accuracy: 0.8986 - val_loss: 0.3172 - val_accuracy: 0.8882\n",
      "Epoch 7/50\n",
      "1500/1500 [==============================] - 2s 1ms/step - loss: 0.2561 - accuracy: 0.9048 - val_loss: 0.3393 - val_accuracy: 0.8800\n",
      "Epoch 8/50\n",
      "1500/1500 [==============================] - 2s 2ms/step - loss: 0.2438 - accuracy: 0.9069 - val_loss: 0.3221 - val_accuracy: 0.8875\n",
      "Epoch 9/50\n",
      "1500/1500 [==============================] - 2s 2ms/step - loss: 0.2334 - accuracy: 0.9123 - val_loss: 0.3050 - val_accuracy: 0.8925\n",
      "Epoch 10/50\n",
      "1500/1500 [==============================] - 2s 2ms/step - loss: 0.2247 - accuracy: 0.9150 - val_loss: 0.3222 - val_accuracy: 0.8874\n",
      "Epoch 11/50\n",
      "1500/1500 [==============================] - 2s 2ms/step - loss: 0.2167 - accuracy: 0.9184 - val_loss: 0.3086 - val_accuracy: 0.8913\n",
      "Epoch 12/50\n",
      "1500/1500 [==============================] - 3s 2ms/step - loss: 0.2065 - accuracy: 0.9223 - val_loss: 0.3015 - val_accuracy: 0.8957\n",
      "Epoch 13/50\n",
      "1500/1500 [==============================] - 3s 2ms/step - loss: 0.1979 - accuracy: 0.9256 - val_loss: 0.3320 - val_accuracy: 0.8892\n",
      "Epoch 14/50\n",
      "1500/1500 [==============================] - 2s 2ms/step - loss: 0.1921 - accuracy: 0.9281 - val_loss: 0.3345 - val_accuracy: 0.8891\n",
      "Epoch 15/50\n",
      "1500/1500 [==============================] - 2s 2ms/step - loss: 0.1848 - accuracy: 0.9300 - val_loss: 0.3472 - val_accuracy: 0.8898\n",
      "Epoch 16/50\n",
      "1500/1500 [==============================] - 2s 2ms/step - loss: 0.1795 - accuracy: 0.9315 - val_loss: 0.3249 - val_accuracy: 0.8944\n",
      "Epoch 17/50\n",
      "1500/1500 [==============================] - 2s 2ms/step - loss: 0.1713 - accuracy: 0.9353 - val_loss: 0.3398 - val_accuracy: 0.8887\n",
      "Epoch 18/50\n",
      "1500/1500 [==============================] - 3s 2ms/step - loss: 0.1653 - accuracy: 0.9377 - val_loss: 0.3525 - val_accuracy: 0.8864\n",
      "Epoch 19/50\n",
      "1500/1500 [==============================] - 3s 2ms/step - loss: 0.1592 - accuracy: 0.9405 - val_loss: 0.3487 - val_accuracy: 0.8945\n",
      "Epoch 20/50\n",
      "1500/1500 [==============================] - 3s 2ms/step - loss: 0.1551 - accuracy: 0.9419 - val_loss: 0.3438 - val_accuracy: 0.8938\n",
      "Epoch 21/50\n",
      "1500/1500 [==============================] - 2s 2ms/step - loss: 0.1517 - accuracy: 0.9439 - val_loss: 0.3786 - val_accuracy: 0.8886\n",
      "Epoch 22/50\n",
      "1500/1500 [==============================] - 2s 2ms/step - loss: 0.1463 - accuracy: 0.9450 - val_loss: 0.3619 - val_accuracy: 0.8941\n",
      "Epoch 23/50\n",
      "1500/1500 [==============================] - 2s 2ms/step - loss: 0.1432 - accuracy: 0.9462 - val_loss: 0.3562 - val_accuracy: 0.8948\n",
      "Epoch 24/50\n",
      "1500/1500 [==============================] - 3s 2ms/step - loss: 0.1375 - accuracy: 0.9487 - val_loss: 0.3931 - val_accuracy: 0.8901\n",
      "Epoch 25/50\n",
      "1500/1500 [==============================] - 2s 2ms/step - loss: 0.1326 - accuracy: 0.9495 - val_loss: 0.3829 - val_accuracy: 0.8900\n",
      "Epoch 26/50\n",
      "1500/1500 [==============================] - 3s 2ms/step - loss: 0.1262 - accuracy: 0.9525 - val_loss: 0.4095 - val_accuracy: 0.8872\n",
      "Epoch 27/50\n",
      "1500/1500 [==============================] - 3s 2ms/step - loss: 0.1259 - accuracy: 0.9524 - val_loss: 0.3770 - val_accuracy: 0.8942\n",
      "Epoch 28/50\n",
      "1500/1500 [==============================] - 4s 2ms/step - loss: 0.1263 - accuracy: 0.9524 - val_loss: 0.4100 - val_accuracy: 0.8894\n",
      "Epoch 29/50\n",
      "1500/1500 [==============================] - 4s 3ms/step - loss: 0.1163 - accuracy: 0.9562 - val_loss: 0.4154 - val_accuracy: 0.8893\n",
      "Epoch 30/50\n",
      "1500/1500 [==============================] - 3s 2ms/step - loss: 0.1171 - accuracy: 0.9555 - val_loss: 0.4091 - val_accuracy: 0.8958\n",
      "Epoch 31/50\n",
      "1500/1500 [==============================] - 2s 2ms/step - loss: 0.1112 - accuracy: 0.9586 - val_loss: 0.4447 - val_accuracy: 0.8892\n",
      "Epoch 32/50\n",
      "1500/1500 [==============================] - 2s 2ms/step - loss: 0.1125 - accuracy: 0.9579 - val_loss: 0.4169 - val_accuracy: 0.8950\n",
      "Epoch 33/50\n",
      "1500/1500 [==============================] - 2s 2ms/step - loss: 0.1042 - accuracy: 0.9604 - val_loss: 0.4178 - val_accuracy: 0.8963\n",
      "Epoch 34/50\n",
      "1500/1500 [==============================] - 2s 2ms/step - loss: 0.1075 - accuracy: 0.9591 - val_loss: 0.4145 - val_accuracy: 0.8935\n",
      "Epoch 35/50\n",
      "1500/1500 [==============================] - 2s 2ms/step - loss: 0.1053 - accuracy: 0.9600 - val_loss: 0.4358 - val_accuracy: 0.8916\n",
      "Epoch 36/50\n",
      "1500/1500 [==============================] - 2s 2ms/step - loss: 0.0979 - accuracy: 0.9626 - val_loss: 0.4605 - val_accuracy: 0.8919\n",
      "Epoch 37/50\n",
      "1500/1500 [==============================] - 2s 2ms/step - loss: 0.0968 - accuracy: 0.9634 - val_loss: 0.4191 - val_accuracy: 0.8982\n",
      "Epoch 38/50\n",
      "1500/1500 [==============================] - 3s 2ms/step - loss: 0.0956 - accuracy: 0.9637 - val_loss: 0.4427 - val_accuracy: 0.8953\n",
      "Epoch 39/50\n",
      "1500/1500 [==============================] - 2s 2ms/step - loss: 0.0949 - accuracy: 0.9641 - val_loss: 0.4692 - val_accuracy: 0.8916\n",
      "Epoch 40/50\n",
      "1500/1500 [==============================] - 4s 2ms/step - loss: 0.0908 - accuracy: 0.9662 - val_loss: 0.4431 - val_accuracy: 0.8963\n",
      "Epoch 41/50\n",
      "1500/1500 [==============================] - 3s 2ms/step - loss: 0.0847 - accuracy: 0.9681 - val_loss: 0.5153 - val_accuracy: 0.8886\n",
      "Epoch 42/50\n",
      "1500/1500 [==============================] - 2s 2ms/step - loss: 0.0865 - accuracy: 0.9688 - val_loss: 0.4732 - val_accuracy: 0.8973\n",
      "Epoch 43/50\n",
      "1500/1500 [==============================] - 2s 2ms/step - loss: 0.0872 - accuracy: 0.9678 - val_loss: 0.4906 - val_accuracy: 0.8941\n",
      "Epoch 44/50\n",
      "1500/1500 [==============================] - 3s 2ms/step - loss: 0.0850 - accuracy: 0.9683 - val_loss: 0.4889 - val_accuracy: 0.8978\n",
      "Epoch 45/50\n",
      "1500/1500 [==============================] - 3s 2ms/step - loss: 0.0829 - accuracy: 0.9696 - val_loss: 0.4945 - val_accuracy: 0.8948\n",
      "Epoch 46/50\n",
      "1500/1500 [==============================] - 3s 2ms/step - loss: 0.0781 - accuracy: 0.9709 - val_loss: 0.5375 - val_accuracy: 0.8914\n",
      "Epoch 47/50\n",
      "1500/1500 [==============================] - 3s 2ms/step - loss: 0.0777 - accuracy: 0.9714 - val_loss: 0.4938 - val_accuracy: 0.8944\n",
      "Epoch 48/50\n",
      "1500/1500 [==============================] - 3s 2ms/step - loss: 0.0761 - accuracy: 0.9721 - val_loss: 0.5379 - val_accuracy: 0.8928\n",
      "Epoch 49/50\n",
      "1500/1500 [==============================] - 3s 2ms/step - loss: 0.0763 - accuracy: 0.9712 - val_loss: 0.5138 - val_accuracy: 0.8964\n",
      "Epoch 50/50\n",
      "1500/1500 [==============================] - 3s 2ms/step - loss: 0.0704 - accuracy: 0.9735 - val_loss: 0.5253 - val_accuracy: 0.8970\n"
     ]
    }
   ],
   "source": [
    "history = model.fit(train_images, train_labels,validation_split=0.2,epochs=50)"
   ]
  },
  {
   "cell_type": "code",
   "execution_count": 21,
   "id": "fc38033e",
   "metadata": {},
   "outputs": [
    {
     "data": {
      "text/plain": [
       "{'loss': [0.49648869037628174,\n",
       "  0.36744120717048645,\n",
       "  0.3306161165237427,\n",
       "  0.3066977262496948,\n",
       "  0.2850828170776367,\n",
       "  0.2709102928638458,\n",
       "  0.256112277507782,\n",
       "  0.2437756359577179,\n",
       "  0.233429953455925,\n",
       "  0.22465738654136658,\n",
       "  0.21671338379383087,\n",
       "  0.2064749002456665,\n",
       "  0.1979464888572693,\n",
       "  0.1921008974313736,\n",
       "  0.18475791811943054,\n",
       "  0.17948248982429504,\n",
       "  0.17134690284729004,\n",
       "  0.1653282642364502,\n",
       "  0.15923775732517242,\n",
       "  0.15514124929904938,\n",
       "  0.15168970823287964,\n",
       "  0.146294504404068,\n",
       "  0.14324802160263062,\n",
       "  0.1375236064195633,\n",
       "  0.13262662291526794,\n",
       "  0.12620455026626587,\n",
       "  0.1258924901485443,\n",
       "  0.12633493542671204,\n",
       "  0.11632426828145981,\n",
       "  0.1170964390039444,\n",
       "  0.11122866719961166,\n",
       "  0.11253304779529572,\n",
       "  0.10422175377607346,\n",
       "  0.10751493275165558,\n",
       "  0.10533322393894196,\n",
       "  0.09794086962938309,\n",
       "  0.0968017503619194,\n",
       "  0.09557732939720154,\n",
       "  0.09491994976997375,\n",
       "  0.09081628173589706,\n",
       "  0.08468601852655411,\n",
       "  0.08654370158910751,\n",
       "  0.08715088665485382,\n",
       "  0.08495941013097763,\n",
       "  0.08293425291776657,\n",
       "  0.07809482514858246,\n",
       "  0.07772153615951538,\n",
       "  0.07612289488315582,\n",
       "  0.07628590613603592,\n",
       "  0.07041451334953308],\n",
       " 'accuracy': [0.8228750228881836,\n",
       "  0.8645833134651184,\n",
       "  0.8772916793823242,\n",
       "  0.8864791393280029,\n",
       "  0.8936458230018616,\n",
       "  0.8986250162124634,\n",
       "  0.9047708511352539,\n",
       "  0.9068750143051147,\n",
       "  0.9122916460037231,\n",
       "  0.9149791598320007,\n",
       "  0.9183958172798157,\n",
       "  0.9222708344459534,\n",
       "  0.9256458282470703,\n",
       "  0.9281250238418579,\n",
       "  0.930020809173584,\n",
       "  0.9315208196640015,\n",
       "  0.9352916479110718,\n",
       "  0.93770831823349,\n",
       "  0.940541684627533,\n",
       "  0.9418958425521851,\n",
       "  0.9439166784286499,\n",
       "  0.9450416564941406,\n",
       "  0.9461666941642761,\n",
       "  0.9486874938011169,\n",
       "  0.9495000243186951,\n",
       "  0.9524999856948853,\n",
       "  0.9523541927337646,\n",
       "  0.9523958563804626,\n",
       "  0.9561874866485596,\n",
       "  0.9554583430290222,\n",
       "  0.9586458206176758,\n",
       "  0.957854151725769,\n",
       "  0.9603541493415833,\n",
       "  0.9591041803359985,\n",
       "  0.9599791765213013,\n",
       "  0.9626250267028809,\n",
       "  0.9633749723434448,\n",
       "  0.9636666774749756,\n",
       "  0.964145839214325,\n",
       "  0.9662083387374878,\n",
       "  0.9681458473205566,\n",
       "  0.9688125252723694,\n",
       "  0.9677500128746033,\n",
       "  0.9682708382606506,\n",
       "  0.9695624709129333,\n",
       "  0.9709374904632568,\n",
       "  0.9714375138282776,\n",
       "  0.9721458554267883,\n",
       "  0.9711874723434448,\n",
       "  0.973479151725769],\n",
       " 'val_loss': [0.4089367985725403,\n",
       "  0.3914943337440491,\n",
       "  0.3843845725059509,\n",
       "  0.33600568771362305,\n",
       "  0.33113768696784973,\n",
       "  0.3172411322593689,\n",
       "  0.3393382728099823,\n",
       "  0.32208001613616943,\n",
       "  0.30498382449150085,\n",
       "  0.3222043216228485,\n",
       "  0.3085612654685974,\n",
       "  0.3015061914920807,\n",
       "  0.3320460319519043,\n",
       "  0.3345167338848114,\n",
       "  0.34723716974258423,\n",
       "  0.32488250732421875,\n",
       "  0.3397795557975769,\n",
       "  0.3524748980998993,\n",
       "  0.34868189692497253,\n",
       "  0.3437982499599457,\n",
       "  0.3786247968673706,\n",
       "  0.3618853688240051,\n",
       "  0.3562462627887726,\n",
       "  0.39309990406036377,\n",
       "  0.3829217255115509,\n",
       "  0.4095345437526703,\n",
       "  0.3770162761211395,\n",
       "  0.4099518358707428,\n",
       "  0.41539323329925537,\n",
       "  0.40909817814826965,\n",
       "  0.4447343051433563,\n",
       "  0.4169098436832428,\n",
       "  0.41781851649284363,\n",
       "  0.4145313799381256,\n",
       "  0.4357605278491974,\n",
       "  0.46054935455322266,\n",
       "  0.4191461205482483,\n",
       "  0.4426873028278351,\n",
       "  0.46919485926628113,\n",
       "  0.4430941641330719,\n",
       "  0.5152693390846252,\n",
       "  0.47324395179748535,\n",
       "  0.4905538260936737,\n",
       "  0.4888835847377777,\n",
       "  0.4944871962070465,\n",
       "  0.5375291109085083,\n",
       "  0.49377140402793884,\n",
       "  0.5378760099411011,\n",
       "  0.513782262802124,\n",
       "  0.5253137350082397],\n",
       " 'val_accuracy': [0.8560000061988831,\n",
       "  0.856416642665863,\n",
       "  0.8560000061988831,\n",
       "  0.8772500157356262,\n",
       "  0.8778333067893982,\n",
       "  0.8882499933242798,\n",
       "  0.8799999952316284,\n",
       "  0.887499988079071,\n",
       "  0.8924999833106995,\n",
       "  0.887416660785675,\n",
       "  0.8913333415985107,\n",
       "  0.8956666588783264,\n",
       "  0.8891666531562805,\n",
       "  0.8890833258628845,\n",
       "  0.8897500038146973,\n",
       "  0.8944166898727417,\n",
       "  0.8886666893959045,\n",
       "  0.8864166736602783,\n",
       "  0.8945000171661377,\n",
       "  0.893833339214325,\n",
       "  0.8885833621025085,\n",
       "  0.8940833210945129,\n",
       "  0.8948333263397217,\n",
       "  0.8900833129882812,\n",
       "  0.8899999856948853,\n",
       "  0.8871666789054871,\n",
       "  0.8941666483879089,\n",
       "  0.8894166946411133,\n",
       "  0.8893333077430725,\n",
       "  0.8958333134651184,\n",
       "  0.8891666531562805,\n",
       "  0.8949999809265137,\n",
       "  0.8963333368301392,\n",
       "  0.8934999704360962,\n",
       "  0.8915833234786987,\n",
       "  0.8919166922569275,\n",
       "  0.8981666564941406,\n",
       "  0.8952500224113464,\n",
       "  0.8915833234786987,\n",
       "  0.8962500095367432,\n",
       "  0.8885833621025085,\n",
       "  0.8973333239555359,\n",
       "  0.8940833210945129,\n",
       "  0.8977500200271606,\n",
       "  0.8948333263397217,\n",
       "  0.8914166688919067,\n",
       "  0.8944166898727417,\n",
       "  0.8927500247955322,\n",
       "  0.8964166641235352,\n",
       "  0.8970000147819519]}"
      ]
     },
     "execution_count": 21,
     "metadata": {},
     "output_type": "execute_result"
    }
   ],
   "source": [
    "history.history"
   ]
  },
  {
   "cell_type": "code",
   "execution_count": 22,
   "id": "bac2574b",
   "metadata": {},
   "outputs": [
    {
     "data": {
      "text/plain": [
       "[0.8228750228881836,\n",
       " 0.8645833134651184,\n",
       " 0.8772916793823242,\n",
       " 0.8864791393280029,\n",
       " 0.8936458230018616,\n",
       " 0.8986250162124634,\n",
       " 0.9047708511352539,\n",
       " 0.9068750143051147,\n",
       " 0.9122916460037231,\n",
       " 0.9149791598320007,\n",
       " 0.9183958172798157,\n",
       " 0.9222708344459534,\n",
       " 0.9256458282470703,\n",
       " 0.9281250238418579,\n",
       " 0.930020809173584,\n",
       " 0.9315208196640015,\n",
       " 0.9352916479110718,\n",
       " 0.93770831823349,\n",
       " 0.940541684627533,\n",
       " 0.9418958425521851,\n",
       " 0.9439166784286499,\n",
       " 0.9450416564941406,\n",
       " 0.9461666941642761,\n",
       " 0.9486874938011169,\n",
       " 0.9495000243186951,\n",
       " 0.9524999856948853,\n",
       " 0.9523541927337646,\n",
       " 0.9523958563804626,\n",
       " 0.9561874866485596,\n",
       " 0.9554583430290222,\n",
       " 0.9586458206176758,\n",
       " 0.957854151725769,\n",
       " 0.9603541493415833,\n",
       " 0.9591041803359985,\n",
       " 0.9599791765213013,\n",
       " 0.9626250267028809,\n",
       " 0.9633749723434448,\n",
       " 0.9636666774749756,\n",
       " 0.964145839214325,\n",
       " 0.9662083387374878,\n",
       " 0.9681458473205566,\n",
       " 0.9688125252723694,\n",
       " 0.9677500128746033,\n",
       " 0.9682708382606506,\n",
       " 0.9695624709129333,\n",
       " 0.9709374904632568,\n",
       " 0.9714375138282776,\n",
       " 0.9721458554267883,\n",
       " 0.9711874723434448,\n",
       " 0.973479151725769]"
      ]
     },
     "execution_count": 22,
     "metadata": {},
     "output_type": "execute_result"
    }
   ],
   "source": [
    "history.history['accuracy']"
   ]
  },
  {
   "cell_type": "code",
   "execution_count": 23,
   "id": "7494bc56",
   "metadata": {},
   "outputs": [
    {
     "data": {
      "text/plain": [
       "[0.8560000061988831,\n",
       " 0.856416642665863,\n",
       " 0.8560000061988831,\n",
       " 0.8772500157356262,\n",
       " 0.8778333067893982,\n",
       " 0.8882499933242798,\n",
       " 0.8799999952316284,\n",
       " 0.887499988079071,\n",
       " 0.8924999833106995,\n",
       " 0.887416660785675,\n",
       " 0.8913333415985107,\n",
       " 0.8956666588783264,\n",
       " 0.8891666531562805,\n",
       " 0.8890833258628845,\n",
       " 0.8897500038146973,\n",
       " 0.8944166898727417,\n",
       " 0.8886666893959045,\n",
       " 0.8864166736602783,\n",
       " 0.8945000171661377,\n",
       " 0.893833339214325,\n",
       " 0.8885833621025085,\n",
       " 0.8940833210945129,\n",
       " 0.8948333263397217,\n",
       " 0.8900833129882812,\n",
       " 0.8899999856948853,\n",
       " 0.8871666789054871,\n",
       " 0.8941666483879089,\n",
       " 0.8894166946411133,\n",
       " 0.8893333077430725,\n",
       " 0.8958333134651184,\n",
       " 0.8891666531562805,\n",
       " 0.8949999809265137,\n",
       " 0.8963333368301392,\n",
       " 0.8934999704360962,\n",
       " 0.8915833234786987,\n",
       " 0.8919166922569275,\n",
       " 0.8981666564941406,\n",
       " 0.8952500224113464,\n",
       " 0.8915833234786987,\n",
       " 0.8962500095367432,\n",
       " 0.8885833621025085,\n",
       " 0.8973333239555359,\n",
       " 0.8940833210945129,\n",
       " 0.8977500200271606,\n",
       " 0.8948333263397217,\n",
       " 0.8914166688919067,\n",
       " 0.8944166898727417,\n",
       " 0.8927500247955322,\n",
       " 0.8964166641235352,\n",
       " 0.8970000147819519]"
      ]
     },
     "execution_count": 23,
     "metadata": {},
     "output_type": "execute_result"
    }
   ],
   "source": [
    "history.history['val_accuracy']"
   ]
  },
  {
   "cell_type": "code",
   "execution_count": 24,
   "id": "f53572bd",
   "metadata": {},
   "outputs": [
    {
     "data": {
      "image/png": "[encoded data removed]",
      "text/plain": [
       "<Figure size 576x288 with 2 Axes>"
      ]
     },
     "metadata": {
      "needs_background": "light"
     },
     "output_type": "display_data"
    }
   ],
   "source": [
    "epochs = 50\n",
    "acc = history.history['accuracy']\n",
    "val_acc = history.history['val_accuracy']\n",
    "\n",
    "loss = history.history['loss']\n",
    "val_loss = history.history['val_loss']\n",
    "\n",
    "epochs_range = range(epochs)\n",
    "\n",
    "plt.figure(figsize=(8, 4))\n",
    "plt.subplot(1, 2, 1)\n",
    "plt.plot(epochs_range, acc, label='Training Accuracy')\n",
    "plt.plot(epochs_range, val_acc, label='Validation Accuracy')\n",
    "plt.legend(loc=0)\n",
    "plt.title('Training and Validation Accuracy')\n",
    "\n",
    "plt.subplot(1, 2, 2)\n",
    "plt.plot(epochs_range, loss, label='Training Loss')\n",
    "plt.plot(epochs_range, val_loss, label='Validation Loss')\n",
    "plt.legend(loc=0)\n",
    "plt.title('Training and Validation Loss')\n",
    "plt.show()"
   ]
  },
  {
   "cell_type": "code",
   "execution_count": 25,
   "id": "ec31eef2",
   "metadata": {},
   "outputs": [],
   "source": [
    "# Overfitted"
   ]
  },
  {
   "cell_type": "code",
   "execution_count": 26,
   "id": "6d2de0bf",
   "metadata": {},
   "outputs": [],
   "source": [
    "model_new = keras.Sequential([\n",
    "    keras.layers.Flatten(input_shape=(28,28)),\n",
    "    keras.layers.Dense(512,activation='relu'),\n",
    "    keras.layers.Dense(10,'softmax')\n",
    "])"
   ]
  },
  {
   "cell_type": "code",
   "execution_count": 27,
   "id": "90a37d63",
   "metadata": {},
   "outputs": [
    {
     "name": "stdout",
     "output_type": "stream",
     "text": [
      "Model: \"sequential_1\"\n",
      "_________________________________________________________________\n",
      "Layer (type)                 Output Shape              Param #   \n",
      "=================================================================\n",
      "flatten_1 (Flatten)          (None, 784)               0         \n",
      "_________________________________________________________________\n",
      "dense_2 (Dense)              (None, 512)               401920    \n",
      "_________________________________________________________________\n",
      "dense_3 (Dense)              (None, 10)                5130      \n",
      "=================================================================\n",
      "Total params: 407,050\n",
      "Trainable params: 407,050\n",
      "Non-trainable params: 0\n",
      "_________________________________________________________________\n"
     ]
    }
   ],
   "source": [
    "model_new.summary()"
   ]
  },
  {
   "cell_type": "code",
   "execution_count": 28,
   "id": "6d147e7e",
   "metadata": {},
   "outputs": [],
   "source": [
    "model_new.compile(optimizer='adam',\n",
    "                 loss=\"sparse_categorical_crossentropy\",\n",
    "                 metrics=['accuracy'])"
   ]
  },
  {
   "cell_type": "code",
   "execution_count": 33,
   "id": "3d23f4c0",
   "metadata": {},
   "outputs": [],
   "source": [
    "callback = keras.callbacks.EarlyStopping(monitor='val_loss',patience=3)"
   ]
  },
  {
   "cell_type": "code",
   "execution_count": 34,
   "id": "62ccfe15",
   "metadata": {},
   "outputs": [
    {
     "name": "stdout",
     "output_type": "stream",
     "text": [
      "Epoch 1/50\n",
      "1500/1500 [==============================] - 3s 2ms/step - loss: 0.1734 - accuracy: 0.9347 - val_loss: 0.3474 - val_accuracy: 0.8888\n",
      "Epoch 2/50\n",
      "1500/1500 [==============================] - 3s 2ms/step - loss: 0.1653 - accuracy: 0.9382 - val_loss: 0.3518 - val_accuracy: 0.8879\n",
      "Epoch 3/50\n",
      "1500/1500 [==============================] - 3s 2ms/step - loss: 0.1627 - accuracy: 0.9391 - val_loss: 0.3455 - val_accuracy: 0.8952\n",
      "Epoch 4/50\n",
      "1500/1500 [==============================] - 3s 2ms/step - loss: 0.1556 - accuracy: 0.9419 - val_loss: 0.3634 - val_accuracy: 0.8881\n",
      "Epoch 5/50\n",
      "1500/1500 [==============================] - 3s 2ms/step - loss: 0.1518 - accuracy: 0.9434 - val_loss: 0.3657 - val_accuracy: 0.8936\n",
      "Epoch 6/50\n",
      "1500/1500 [==============================] - 3s 2ms/step - loss: 0.1487 - accuracy: 0.9448 - val_loss: 0.3576 - val_accuracy: 0.8919\n"
     ]
    }
   ],
   "source": [
    "history = model_new.fit(train_images,train_labels,epochs=50,validation_split=0.2,callbacks=callback)"
   ]
  },
  {
   "cell_type": "code",
   "execution_count": 35,
   "id": "ade74bbc",
   "metadata": {},
   "outputs": [
    {
     "data": {
      "image/png": "[encoded data removed]",
      "text/plain": [
       "<Figure size 576x288 with 2 Axes>"
      ]
     },
     "metadata": {
      "needs_background": "light"
     },
     "output_type": "display_data"
    }
   ],
   "source": [
    "epochs = 6\n",
    "acc = history.history['accuracy']\n",
    "val_acc = history.history['val_accuracy']\n",
    "\n",
    "loss = history.history['loss']\n",
    "val_loss = history.history['val_loss']\n",
    "\n",
    "epochs_range = range(epochs)\n",
    "\n",
    "plt.figure(figsize=(8,4))\n",
    "plt.subplot(1,2,1)\n",
    "plt.plot(epochs_range,loss,label='Training Accuracy')\n",
    "plt.plot(epochs_range,val_loss,label='Validation Accuracy')\n",
    "plt.legend(loc=0)\n",
    "plt.title('Training and Validation Accuracy')\n",
    "\n",
    "plt.subplot(1,2,2)\n",
    "plt.plot(epochs_range,loss,label='Training Loss')\n",
    "plt.plot(epochs_range,val_loss,label='Validation Loss')\n",
    "plt.legend(loc=0)\n",
    "plt.title('Training and Validation Loss')\n",
    "plt.show()\n"
   ]
  },
  {
   "cell_type": "code",
   "execution_count": null,
   "id": "f51808cd",
   "metadata": {},
   "outputs": [],
   "source": []
  },
  {
   "cell_type": "code",
   "execution_count": null,
   "id": "b840adc3",
   "metadata": {},
   "outputs": [],
   "source": []
  }
 ],
 "metadata": {
  "kernelspec": {
   "display_name": "Python 3",
   "language": "python",
   "name": "python3"
  },
  "language_info": {
   "codemirror_mode": {
    "name": "ipython",
    "version": 3
   },
   "file_extension": ".py",
   "mimetype": "text/x-python",
   "name": "python",
   "nbconvert_exporter": "python",
   "pygments_lexer": "ipython3",
   "version": "3.6.13"
  }
 },
 "nbformat": 4,
 "nbformat_minor": 5
}
