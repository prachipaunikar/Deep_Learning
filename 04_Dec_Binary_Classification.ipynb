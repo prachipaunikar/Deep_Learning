{
 "cells": [
  {
   "cell_type": "code",
   "execution_count": 2,
   "id": "a39c8aac",
   "metadata": {},
   "outputs": [],
   "source": [
    "import numpy as np\n",
    "import pandas as pd\n",
    "import matplotlib.pyplot as plt\n",
    "import seaborn as sns\n",
    "sns.set_style('whitegrid')"
   ]
  },
  {
   "cell_type": "code",
   "execution_count": 3,
   "id": "ea7c7bdd",
   "metadata": {},
   "outputs": [],
   "source": [
    "from sklearn.datasets import make_classification"
   ]
  },
  {
   "cell_type": "code",
   "execution_count": 4,
   "id": "0aa1373a",
   "metadata": {},
   "outputs": [],
   "source": [
    "x,y = make_classification(n_classes=2,n_features=4,n_samples=500,random_state=0)"
   ]
  },
  {
   "cell_type": "code",
   "execution_count": 5,
   "id": "7ca4fc76",
   "metadata": {},
   "outputs": [
    {
     "data": {
      "text/plain": [
       "array([[-0.34917739, -0.7204688 , -0.65302064,  0.0464621 ],\n",
       "       [-2.15244896, -0.62458631, -2.48316375,  0.42196891],\n",
       "       [ 1.93033293, -0.04146763,  1.98381669, -0.39979292],\n",
       "       ...,\n",
       "       [-0.09440045,  0.44229321,  0.08089276,  0.03518888],\n",
       "       [ 0.91181228,  0.75402614,  1.24968892, -0.16136869],\n",
       "       [ 0.51745152,  1.11257209,  0.98586466, -0.06725822]])"
      ]
     },
     "execution_count": 5,
     "metadata": {},
     "output_type": "execute_result"
    }
   ],
   "source": [
    "x"
   ]
  },
  {
   "cell_type": "code",
   "execution_count": 6,
   "id": "94448d27",
   "metadata": {},
   "outputs": [
    {
     "data": {
      "text/plain": [
       "array([0, 0, 1, 1, 0, 1, 0, 1, 1, 0, 0, 0, 1, 0, 0, 1, 1, 0, 1, 0, 1, 1,\n",
       "       1, 0, 1, 0, 1, 0, 1, 0, 0, 1, 1, 0, 0, 0, 0, 1, 0, 1, 1, 0, 1, 0,\n",
       "       1, 0, 1, 0, 1, 0, 1, 1, 1, 0, 1, 1, 1, 0, 0, 0, 0, 0, 1, 1, 0, 1,\n",
       "       1, 1, 0, 0, 1, 1, 0, 0, 1, 0, 0, 0, 1, 1, 1, 1, 1, 1, 0, 0, 1, 0,\n",
       "       0, 0, 0, 0, 1, 1, 0, 0, 0, 1, 0, 1, 0, 0, 0, 1, 1, 1, 0, 1, 0, 0,\n",
       "       0, 1, 0, 0, 0, 1, 1, 1, 0, 0, 0, 1, 0, 1, 0, 0, 0, 1, 1, 1, 0, 1,\n",
       "       0, 1, 0, 1, 0, 0, 1, 1, 0, 0, 1, 0, 1, 0, 1, 1, 1, 1, 1, 1, 1, 0,\n",
       "       0, 0, 1, 1, 0, 0, 1, 1, 0, 1, 1, 0, 1, 0, 1, 0, 1, 1, 1, 0, 0, 0,\n",
       "       1, 0, 1, 0, 0, 0, 1, 0, 1, 1, 0, 0, 1, 1, 0, 1, 0, 0, 1, 0, 1, 1,\n",
       "       0, 1, 0, 1, 0, 0, 1, 1, 0, 0, 0, 0, 0, 0, 1, 1, 1, 0, 0, 0, 0, 0,\n",
       "       1, 0, 1, 1, 0, 1, 1, 0, 1, 0, 1, 1, 1, 1, 0, 1, 0, 0, 0, 1, 1, 1,\n",
       "       1, 1, 0, 0, 1, 1, 1, 0, 1, 0, 1, 1, 0, 0, 1, 0, 0, 0, 1, 0, 1, 1,\n",
       "       0, 0, 1, 0, 0, 0, 1, 0, 1, 1, 0, 1, 1, 1, 1, 1, 0, 1, 1, 1, 0, 1,\n",
       "       0, 0, 0, 0, 0, 1, 1, 1, 1, 0, 0, 0, 0, 1, 1, 1, 0, 1, 1, 0, 0, 1,\n",
       "       1, 0, 1, 1, 0, 0, 0, 1, 1, 1, 1, 0, 1, 1, 0, 1, 1, 0, 0, 0, 1, 1,\n",
       "       0, 0, 1, 0, 1, 1, 0, 0, 1, 0, 1, 0, 1, 1, 1, 0, 1, 0, 0, 0, 1, 1,\n",
       "       1, 1, 0, 1, 0, 1, 0, 1, 0, 1, 0, 1, 0, 1, 1, 0, 0, 0, 1, 0, 1, 0,\n",
       "       0, 1, 0, 0, 1, 1, 0, 0, 0, 1, 0, 0, 0, 0, 1, 1, 1, 1, 1, 1, 0, 0,\n",
       "       1, 1, 1, 0, 1, 1, 0, 0, 1, 0, 1, 1, 1, 0, 1, 1, 0, 1, 0, 0, 1, 0,\n",
       "       0, 0, 1, 1, 0, 1, 1, 1, 0, 1, 0, 0, 0, 0, 0, 0, 1, 0, 1, 0, 1, 0,\n",
       "       1, 0, 1, 1, 1, 1, 1, 0, 1, 0, 0, 0, 1, 0, 1, 0, 1, 0, 1, 1, 1, 0,\n",
       "       0, 0, 1, 0, 1, 1, 1, 1, 1, 0, 0, 0, 0, 1, 1, 0, 1, 0, 1, 0, 1, 0,\n",
       "       0, 0, 1, 0, 1, 0, 0, 0, 0, 0, 1, 0, 0, 0, 1, 0])"
      ]
     },
     "execution_count": 6,
     "metadata": {},
     "output_type": "execute_result"
    }
   ],
   "source": [
    "y"
   ]
  },
  {
   "cell_type": "code",
   "execution_count": 8,
   "id": "82a30433",
   "metadata": {},
   "outputs": [],
   "source": [
    "from sklearn.model_selection import train_test_split"
   ]
  },
  {
   "cell_type": "code",
   "execution_count": 9,
   "id": "512bbc55",
   "metadata": {},
   "outputs": [],
   "source": [
    "x_train,x_test,y_train,y_test = train_test_split(x,y,test_size=0.2,random_state=0)"
   ]
  },
  {
   "cell_type": "code",
   "execution_count": 10,
   "id": "828703cb",
   "metadata": {},
   "outputs": [
    {
     "data": {
      "text/plain": [
       "(400, 4)"
      ]
     },
     "execution_count": 10,
     "metadata": {},
     "output_type": "execute_result"
    }
   ],
   "source": [
    "x_train.shape"
   ]
  },
  {
   "cell_type": "code",
   "execution_count": 11,
   "id": "4f491fa4",
   "metadata": {},
   "outputs": [
    {
     "data": {
      "text/plain": [
       "(100, 4)"
      ]
     },
     "execution_count": 11,
     "metadata": {},
     "output_type": "execute_result"
    }
   ],
   "source": [
    "x_test.shape"
   ]
  },
  {
   "cell_type": "code",
   "execution_count": 12,
   "id": "7b91fe32",
   "metadata": {},
   "outputs": [],
   "source": [
    "import keras\n",
    "from keras import Sequential\n",
    "from keras.layers import Dense"
   ]
  },
  {
   "cell_type": "code",
   "execution_count": 13,
   "id": "093aa9ae",
   "metadata": {},
   "outputs": [],
   "source": [
    "model = Sequential([\n",
    "    Dense(10,activation='relu',input_shape=[4]),\n",
    "    Dense(10,activation='relu'),\n",
    "    Dense(10,activation='relu'),\n",
    "    Dense(1,activation='sigmoid')\n",
    "])"
   ]
  },
  {
   "cell_type": "code",
   "execution_count": 14,
   "id": "d069db70",
   "metadata": {},
   "outputs": [
    {
     "name": "stdout",
     "output_type": "stream",
     "text": [
      "Model: \"sequential\"\n",
      "_________________________________________________________________\n",
      "Layer (type)                 Output Shape              Param #   \n",
      "=================================================================\n",
      "dense (Dense)                (None, 10)                50        \n",
      "_________________________________________________________________\n",
      "dense_1 (Dense)              (None, 10)                110       \n",
      "_________________________________________________________________\n",
      "dense_2 (Dense)              (None, 10)                110       \n",
      "_________________________________________________________________\n",
      "dense_3 (Dense)              (None, 1)                 11        \n",
      "=================================================================\n",
      "Total params: 281\n",
      "Trainable params: 281\n",
      "Non-trainable params: 0\n",
      "_________________________________________________________________\n"
     ]
    }
   ],
   "source": [
    "model.summary()"
   ]
  },
  {
   "cell_type": "code",
   "execution_count": 15,
   "id": "dc85d8fd",
   "metadata": {},
   "outputs": [],
   "source": [
    "model.compile(loss='binary_crossentropy',optimizer='adam',metrics=['accuracy'])"
   ]
  },
  {
   "cell_type": "code",
   "execution_count": 16,
   "id": "4ef3580c",
   "metadata": {},
   "outputs": [
    {
     "name": "stdout",
     "output_type": "stream",
     "text": [
      "Epoch 1/100\n",
      "13/13 [==============================] - 2s 5ms/step - loss: 0.7779 - accuracy: 0.4500\n",
      "Epoch 2/100\n",
      "13/13 [==============================] - 0s 4ms/step - loss: 0.7245 - accuracy: 0.4450\n",
      "Epoch 3/100\n",
      "13/13 [==============================] - 0s 4ms/step - loss: 0.6832 - accuracy: 0.4575\n",
      "Epoch 4/100\n",
      "13/13 [==============================] - 0s 3ms/step - loss: 0.6447 - accuracy: 0.4625\n",
      "Epoch 5/100\n",
      "13/13 [==============================] - 0s 3ms/step - loss: 0.6091 - accuracy: 0.5475\n",
      "Epoch 6/100\n",
      "13/13 [==============================] - 0s 3ms/step - loss: 0.5754 - accuracy: 0.6625\n",
      "Epoch 7/100\n",
      "13/13 [==============================] - 0s 4ms/step - loss: 0.5493 - accuracy: 0.7900\n",
      "Epoch 8/100\n",
      "13/13 [==============================] - 0s 3ms/step - loss: 0.5294 - accuracy: 0.8175\n",
      "Epoch 9/100\n",
      "13/13 [==============================] - 0s 4ms/step - loss: 0.5131 - accuracy: 0.8375\n",
      "Epoch 10/100\n",
      "13/13 [==============================] - 0s 3ms/step - loss: 0.4993 - accuracy: 0.8400\n",
      "Epoch 11/100\n",
      "13/13 [==============================] - 0s 3ms/step - loss: 0.4879 - accuracy: 0.8300\n",
      "Epoch 12/100\n",
      "13/13 [==============================] - 0s 3ms/step - loss: 0.4776 - accuracy: 0.8275\n",
      "Epoch 13/100\n",
      "13/13 [==============================] - 0s 3ms/step - loss: 0.4680 - accuracy: 0.8325\n",
      "Epoch 14/100\n",
      "13/13 [==============================] - 0s 3ms/step - loss: 0.4591 - accuracy: 0.8325\n",
      "Epoch 15/100\n",
      "13/13 [==============================] - 0s 4ms/step - loss: 0.4504 - accuracy: 0.8375\n",
      "Epoch 16/100\n",
      "13/13 [==============================] - 0s 4ms/step - loss: 0.4416 - accuracy: 0.8425\n",
      "Epoch 17/100\n",
      "13/13 [==============================] - 0s 4ms/step - loss: 0.4332 - accuracy: 0.8425\n",
      "Epoch 18/100\n",
      "13/13 [==============================] - 0s 3ms/step - loss: 0.4243 - accuracy: 0.8425\n",
      "Epoch 19/100\n",
      "13/13 [==============================] - 0s 3ms/step - loss: 0.4151 - accuracy: 0.8500\n",
      "Epoch 20/100\n",
      "13/13 [==============================] - 0s 3ms/step - loss: 0.4053 - accuracy: 0.8500\n",
      "Epoch 21/100\n",
      "13/13 [==============================] - 0s 3ms/step - loss: 0.3955 - accuracy: 0.8525\n",
      "Epoch 22/100\n",
      "13/13 [==============================] - 0s 3ms/step - loss: 0.3858 - accuracy: 0.8550\n",
      "Epoch 23/100\n",
      "13/13 [==============================] - 0s 4ms/step - loss: 0.3762 - accuracy: 0.8525\n",
      "Epoch 24/100\n",
      "13/13 [==============================] - 0s 3ms/step - loss: 0.3668 - accuracy: 0.8550\n",
      "Epoch 25/100\n",
      "13/13 [==============================] - 0s 3ms/step - loss: 0.3579 - accuracy: 0.8575\n",
      "Epoch 26/100\n",
      "13/13 [==============================] - 0s 3ms/step - loss: 0.3502 - accuracy: 0.8550\n",
      "Epoch 27/100\n",
      "13/13 [==============================] - 0s 3ms/step - loss: 0.3432 - accuracy: 0.8575\n",
      "Epoch 28/100\n",
      "13/13 [==============================] - 0s 3ms/step - loss: 0.3375 - accuracy: 0.8550\n",
      "Epoch 29/100\n",
      "13/13 [==============================] - 0s 3ms/step - loss: 0.3319 - accuracy: 0.8575\n",
      "Epoch 30/100\n",
      "13/13 [==============================] - 0s 3ms/step - loss: 0.3269 - accuracy: 0.8575\n",
      "Epoch 31/100\n",
      "13/13 [==============================] - 0s 3ms/step - loss: 0.3230 - accuracy: 0.8575\n",
      "Epoch 32/100\n",
      "13/13 [==============================] - 0s 3ms/step - loss: 0.3194 - accuracy: 0.8550\n",
      "Epoch 33/100\n",
      "13/13 [==============================] - 0s 3ms/step - loss: 0.3156 - accuracy: 0.8550\n",
      "Epoch 34/100\n",
      "13/13 [==============================] - 0s 3ms/step - loss: 0.3128 - accuracy: 0.8525\n",
      "Epoch 35/100\n",
      "13/13 [==============================] - 0s 3ms/step - loss: 0.3097 - accuracy: 0.8475\n",
      "Epoch 36/100\n",
      "13/13 [==============================] - 0s 3ms/step - loss: 0.3077 - accuracy: 0.8500\n",
      "Epoch 37/100\n",
      "13/13 [==============================] - 0s 3ms/step - loss: 0.3046 - accuracy: 0.8500\n",
      "Epoch 38/100\n",
      "13/13 [==============================] - 0s 3ms/step - loss: 0.3021 - accuracy: 0.8425\n",
      "Epoch 39/100\n",
      "13/13 [==============================] - 0s 4ms/step - loss: 0.2997 - accuracy: 0.8425\n",
      "Epoch 40/100\n",
      "13/13 [==============================] - 0s 3ms/step - loss: 0.2978 - accuracy: 0.8450\n",
      "Epoch 41/100\n",
      "13/13 [==============================] - 0s 4ms/step - loss: 0.2951 - accuracy: 0.8450\n",
      "Epoch 42/100\n",
      "13/13 [==============================] - 0s 2ms/step - loss: 0.2939 - accuracy: 0.8575\n",
      "Epoch 43/100\n",
      "13/13 [==============================] - 0s 3ms/step - loss: 0.2915 - accuracy: 0.8525\n",
      "Epoch 44/100\n",
      "13/13 [==============================] - 0s 4ms/step - loss: 0.2899 - accuracy: 0.8475\n",
      "Epoch 45/100\n",
      "13/13 [==============================] - 0s 3ms/step - loss: 0.2871 - accuracy: 0.8575\n",
      "Epoch 46/100\n",
      "13/13 [==============================] - 0s 2ms/step - loss: 0.2850 - accuracy: 0.8800\n",
      "Epoch 47/100\n",
      "13/13 [==============================] - 0s 3ms/step - loss: 0.2822 - accuracy: 0.8675\n",
      "Epoch 48/100\n",
      "13/13 [==============================] - 0s 3ms/step - loss: 0.2806 - accuracy: 0.8700\n",
      "Epoch 49/100\n",
      "13/13 [==============================] - 0s 3ms/step - loss: 0.2788 - accuracy: 0.8675\n",
      "Epoch 50/100\n",
      "13/13 [==============================] - 0s 3ms/step - loss: 0.2779 - accuracy: 0.8775\n",
      "Epoch 51/100\n",
      "13/13 [==============================] - 0s 3ms/step - loss: 0.2746 - accuracy: 0.8925\n",
      "Epoch 52/100\n",
      "13/13 [==============================] - 0s 3ms/step - loss: 0.2739 - accuracy: 0.8925\n",
      "Epoch 53/100\n",
      "13/13 [==============================] - 0s 4ms/step - loss: 0.2725 - accuracy: 0.8750\n",
      "Epoch 54/100\n",
      "13/13 [==============================] - 0s 3ms/step - loss: 0.2710 - accuracy: 0.9025\n",
      "Epoch 55/100\n",
      "13/13 [==============================] - 0s 3ms/step - loss: 0.2697 - accuracy: 0.9000\n",
      "Epoch 56/100\n",
      "13/13 [==============================] - 0s 3ms/step - loss: 0.2683 - accuracy: 0.9000\n",
      "Epoch 57/100\n",
      "13/13 [==============================] - 0s 3ms/step - loss: 0.2669 - accuracy: 0.8975\n",
      "Epoch 58/100\n",
      "13/13 [==============================] - 0s 3ms/step - loss: 0.2667 - accuracy: 0.8975\n",
      "Epoch 59/100\n",
      "13/13 [==============================] - 0s 3ms/step - loss: 0.2648 - accuracy: 0.8950\n",
      "Epoch 60/100\n",
      "13/13 [==============================] - 0s 3ms/step - loss: 0.2637 - accuracy: 0.9025\n",
      "Epoch 61/100\n",
      "13/13 [==============================] - 0s 3ms/step - loss: 0.2627 - accuracy: 0.9025\n",
      "Epoch 62/100\n",
      "13/13 [==============================] - 0s 3ms/step - loss: 0.2618 - accuracy: 0.9000\n",
      "Epoch 63/100\n",
      "13/13 [==============================] - 0s 2ms/step - loss: 0.2608 - accuracy: 0.9025\n",
      "Epoch 64/100\n",
      "13/13 [==============================] - 0s 3ms/step - loss: 0.2594 - accuracy: 0.9050\n",
      "Epoch 65/100\n",
      "13/13 [==============================] - 0s 3ms/step - loss: 0.2580 - accuracy: 0.9050\n",
      "Epoch 66/100\n",
      "13/13 [==============================] - 0s 3ms/step - loss: 0.2569 - accuracy: 0.9075\n",
      "Epoch 67/100\n",
      "13/13 [==============================] - 0s 3ms/step - loss: 0.2554 - accuracy: 0.9125\n",
      "Epoch 68/100\n",
      "13/13 [==============================] - 0s 3ms/step - loss: 0.2541 - accuracy: 0.9125\n",
      "Epoch 69/100\n",
      "13/13 [==============================] - 0s 3ms/step - loss: 0.2526 - accuracy: 0.9150\n",
      "Epoch 70/100\n",
      "13/13 [==============================] - 0s 3ms/step - loss: 0.2510 - accuracy: 0.9150\n",
      "Epoch 71/100\n",
      "13/13 [==============================] - 0s 3ms/step - loss: 0.2496 - accuracy: 0.9175\n",
      "Epoch 72/100\n",
      "13/13 [==============================] - 0s 3ms/step - loss: 0.2483 - accuracy: 0.9175\n",
      "Epoch 73/100\n",
      "13/13 [==============================] - 0s 3ms/step - loss: 0.2466 - accuracy: 0.9150\n",
      "Epoch 74/100\n",
      "13/13 [==============================] - 0s 3ms/step - loss: 0.2457 - accuracy: 0.9125\n",
      "Epoch 75/100\n",
      "13/13 [==============================] - 0s 3ms/step - loss: 0.2448 - accuracy: 0.9150\n",
      "Epoch 76/100\n",
      "13/13 [==============================] - 0s 3ms/step - loss: 0.2436 - accuracy: 0.9175\n",
      "Epoch 77/100\n",
      "13/13 [==============================] - 0s 3ms/step - loss: 0.2420 - accuracy: 0.9200\n",
      "Epoch 78/100\n",
      "13/13 [==============================] - 0s 3ms/step - loss: 0.2401 - accuracy: 0.9200\n",
      "Epoch 79/100\n",
      "13/13 [==============================] - 0s 3ms/step - loss: 0.2391 - accuracy: 0.9200\n",
      "Epoch 80/100\n",
      "13/13 [==============================] - 0s 3ms/step - loss: 0.2389 - accuracy: 0.9175\n",
      "Epoch 81/100\n",
      "13/13 [==============================] - 0s 2ms/step - loss: 0.2367 - accuracy: 0.9175\n",
      "Epoch 82/100\n",
      "13/13 [==============================] - 0s 3ms/step - loss: 0.2353 - accuracy: 0.9200\n",
      "Epoch 83/100\n"
     ]
    },
    {
     "name": "stdout",
     "output_type": "stream",
     "text": [
      "13/13 [==============================] - 0s 4ms/step - loss: 0.2346 - accuracy: 0.9200\n",
      "Epoch 84/100\n",
      "13/13 [==============================] - 0s 3ms/step - loss: 0.2334 - accuracy: 0.9150\n",
      "Epoch 85/100\n",
      "13/13 [==============================] - 0s 3ms/step - loss: 0.2323 - accuracy: 0.9175\n",
      "Epoch 86/100\n",
      "13/13 [==============================] - 0s 3ms/step - loss: 0.2305 - accuracy: 0.9175\n",
      "Epoch 87/100\n",
      "13/13 [==============================] - 0s 3ms/step - loss: 0.2303 - accuracy: 0.9200\n",
      "Epoch 88/100\n",
      "13/13 [==============================] - 0s 3ms/step - loss: 0.2269 - accuracy: 0.9200\n",
      "Epoch 89/100\n",
      "13/13 [==============================] - 0s 3ms/step - loss: 0.2271 - accuracy: 0.9175\n",
      "Epoch 90/100\n",
      "13/13 [==============================] - 0s 3ms/step - loss: 0.2254 - accuracy: 0.9200\n",
      "Epoch 91/100\n",
      "13/13 [==============================] - 0s 3ms/step - loss: 0.2241 - accuracy: 0.9200\n",
      "Epoch 92/100\n",
      "13/13 [==============================] - 0s 3ms/step - loss: 0.2224 - accuracy: 0.9175\n",
      "Epoch 93/100\n",
      "13/13 [==============================] - 0s 3ms/step - loss: 0.2216 - accuracy: 0.9225\n",
      "Epoch 94/100\n",
      "13/13 [==============================] - 0s 3ms/step - loss: 0.2201 - accuracy: 0.9225\n",
      "Epoch 95/100\n",
      "13/13 [==============================] - 0s 3ms/step - loss: 0.2189 - accuracy: 0.9175\n",
      "Epoch 96/100\n",
      "13/13 [==============================] - 0s 3ms/step - loss: 0.2180 - accuracy: 0.9200\n",
      "Epoch 97/100\n",
      "13/13 [==============================] - 0s 3ms/step - loss: 0.2167 - accuracy: 0.9225\n",
      "Epoch 98/100\n",
      "13/13 [==============================] - 0s 3ms/step - loss: 0.2157 - accuracy: 0.9200\n",
      "Epoch 99/100\n",
      "13/13 [==============================] - 0s 4ms/step - loss: 0.2144 - accuracy: 0.9175\n",
      "Epoch 100/100\n",
      "13/13 [==============================] - 0s 3ms/step - loss: 0.2126 - accuracy: 0.9225\n"
     ]
    },
    {
     "data": {
      "text/plain": [
       "<keras.callbacks.History at 0x2718f67a358>"
      ]
     },
     "execution_count": 16,
     "metadata": {},
     "output_type": "execute_result"
    }
   ],
   "source": [
    "model.fit(x_train,y_train,epochs=100)"
   ]
  },
  {
   "cell_type": "code",
   "execution_count": 17,
   "id": "ffb1a3e6",
   "metadata": {},
   "outputs": [],
   "source": [
    "y_pred = model.predict(x_test)"
   ]
  },
  {
   "cell_type": "code",
   "execution_count": 18,
   "id": "5caca6e2",
   "metadata": {},
   "outputs": [
    {
     "data": {
      "text/plain": [
       "array([[0.07815118],\n",
       "       [0.5590684 ],\n",
       "       [0.654443  ],\n",
       "       [0.984608  ],\n",
       "       [0.45325658],\n",
       "       [0.9999976 ],\n",
       "       [0.7211372 ],\n",
       "       [0.0833114 ],\n",
       "       [0.02803041],\n",
       "       [0.24849921],\n",
       "       [0.7212349 ],\n",
       "       [0.9999982 ],\n",
       "       [0.68122774],\n",
       "       [0.03533466],\n",
       "       [0.9999385 ],\n",
       "       [0.99863005],\n",
       "       [1.        ],\n",
       "       [0.7147722 ],\n",
       "       [0.01801734],\n",
       "       [0.999757  ],\n",
       "       [1.        ],\n",
       "       [0.99823344],\n",
       "       [0.99944514],\n",
       "       [0.01999638],\n",
       "       [0.06397747],\n",
       "       [0.72719985],\n",
       "       [0.7148487 ],\n",
       "       [0.549112  ],\n",
       "       [0.05723181],\n",
       "       [0.07149471],\n",
       "       [0.05817626],\n",
       "       [0.54111814],\n",
       "       [0.08148411],\n",
       "       [0.5402412 ],\n",
       "       [0.50964546],\n",
       "       [0.0360637 ],\n",
       "       [0.99824715],\n",
       "       [0.12571673],\n",
       "       [0.9941294 ],\n",
       "       [0.05248965],\n",
       "       [0.03423592],\n",
       "       [1.        ],\n",
       "       [0.06703964],\n",
       "       [0.01314706],\n",
       "       [0.02334297],\n",
       "       [0.01864545],\n",
       "       [0.999941  ],\n",
       "       [0.1166607 ],\n",
       "       [0.10319996],\n",
       "       [0.05905095],\n",
       "       [0.9999975 ],\n",
       "       [0.9999943 ],\n",
       "       [0.6161399 ],\n",
       "       [0.9999974 ],\n",
       "       [0.03085702],\n",
       "       [0.9999964 ],\n",
       "       [0.5585232 ],\n",
       "       [0.07228485],\n",
       "       [0.1094659 ],\n",
       "       [0.9999752 ],\n",
       "       [1.        ],\n",
       "       [0.9996731 ],\n",
       "       [0.02978677],\n",
       "       [0.76379097],\n",
       "       [0.9987857 ],\n",
       "       [1.        ],\n",
       "       [0.5420454 ],\n",
       "       [0.05458264],\n",
       "       [0.6452357 ],\n",
       "       [0.01423897],\n",
       "       [0.9997739 ],\n",
       "       [0.5455106 ],\n",
       "       [0.9999864 ],\n",
       "       [0.08597488],\n",
       "       [0.0663197 ],\n",
       "       [0.07058391],\n",
       "       [0.01768673],\n",
       "       [0.01858151],\n",
       "       [0.06672527],\n",
       "       [0.04987044],\n",
       "       [1.        ],\n",
       "       [0.9664836 ],\n",
       "       [0.7206265 ],\n",
       "       [0.07497502],\n",
       "       [0.02823485],\n",
       "       [0.08137313],\n",
       "       [0.6180253 ],\n",
       "       [0.746065  ],\n",
       "       [0.03807148],\n",
       "       [0.6279457 ],\n",
       "       [0.7187616 ],\n",
       "       [0.02716827],\n",
       "       [0.7202114 ],\n",
       "       [0.05361847],\n",
       "       [0.01121004],\n",
       "       [0.03638099],\n",
       "       [0.6530352 ],\n",
       "       [0.9999945 ],\n",
       "       [0.02864794],\n",
       "       [0.60551447]], dtype=float32)"
      ]
     },
     "execution_count": 18,
     "metadata": {},
     "output_type": "execute_result"
    }
   ],
   "source": [
    "y_pred"
   ]
  },
  {
   "cell_type": "code",
   "execution_count": 19,
   "id": "4f65a316",
   "metadata": {},
   "outputs": [
    {
     "data": {
      "text/plain": [
       "array([[0.],\n",
       "       [1.],\n",
       "       [1.],\n",
       "       [1.],\n",
       "       [0.],\n",
       "       [1.],\n",
       "       [1.],\n",
       "       [0.],\n",
       "       [0.],\n",
       "       [0.],\n",
       "       [1.],\n",
       "       [1.],\n",
       "       [1.],\n",
       "       [0.],\n",
       "       [1.],\n",
       "       [1.],\n",
       "       [1.],\n",
       "       [1.],\n",
       "       [0.],\n",
       "       [1.],\n",
       "       [1.],\n",
       "       [1.],\n",
       "       [1.],\n",
       "       [0.],\n",
       "       [0.],\n",
       "       [1.],\n",
       "       [1.],\n",
       "       [1.],\n",
       "       [0.],\n",
       "       [0.],\n",
       "       [0.],\n",
       "       [1.],\n",
       "       [0.],\n",
       "       [1.],\n",
       "       [1.],\n",
       "       [0.],\n",
       "       [1.],\n",
       "       [0.],\n",
       "       [1.],\n",
       "       [0.],\n",
       "       [0.],\n",
       "       [1.],\n",
       "       [0.],\n",
       "       [0.],\n",
       "       [0.],\n",
       "       [0.],\n",
       "       [1.],\n",
       "       [0.],\n",
       "       [0.],\n",
       "       [0.],\n",
       "       [1.],\n",
       "       [1.],\n",
       "       [1.],\n",
       "       [1.],\n",
       "       [0.],\n",
       "       [1.],\n",
       "       [1.],\n",
       "       [0.],\n",
       "       [0.],\n",
       "       [1.],\n",
       "       [1.],\n",
       "       [1.],\n",
       "       [0.],\n",
       "       [1.],\n",
       "       [1.],\n",
       "       [1.],\n",
       "       [1.],\n",
       "       [0.],\n",
       "       [1.],\n",
       "       [0.],\n",
       "       [1.],\n",
       "       [1.],\n",
       "       [1.],\n",
       "       [0.],\n",
       "       [0.],\n",
       "       [0.],\n",
       "       [0.],\n",
       "       [0.],\n",
       "       [0.],\n",
       "       [0.],\n",
       "       [1.],\n",
       "       [1.],\n",
       "       [1.],\n",
       "       [0.],\n",
       "       [0.],\n",
       "       [0.],\n",
       "       [1.],\n",
       "       [1.],\n",
       "       [0.],\n",
       "       [1.],\n",
       "       [1.],\n",
       "       [0.],\n",
       "       [1.],\n",
       "       [0.],\n",
       "       [0.],\n",
       "       [0.],\n",
       "       [1.],\n",
       "       [1.],\n",
       "       [0.],\n",
       "       [1.]], dtype=float32)"
      ]
     },
     "execution_count": 19,
     "metadata": {},
     "output_type": "execute_result"
    }
   ],
   "source": [
    "y_pred = y_pred.round()\n",
    "y_pred"
   ]
  },
  {
   "cell_type": "code",
   "execution_count": 20,
   "id": "33cb2f56",
   "metadata": {},
   "outputs": [],
   "source": [
    "from sklearn.metrics import confusion_matrix,classification_report"
   ]
  },
  {
   "cell_type": "code",
   "execution_count": 21,
   "id": "42a0df0a",
   "metadata": {},
   "outputs": [
    {
     "name": "stdout",
     "output_type": "stream",
     "text": [
      "[[43  8]\n",
      " [ 3 46]]\n"
     ]
    }
   ],
   "source": [
    "print(confusion_matrix(y_test,y_pred))"
   ]
  },
  {
   "cell_type": "code",
   "execution_count": 22,
   "id": "6233b9eb",
   "metadata": {},
   "outputs": [
    {
     "name": "stdout",
     "output_type": "stream",
     "text": [
      "              precision    recall  f1-score   support\n",
      "\n",
      "           0       0.93      0.84      0.89        51\n",
      "           1       0.85      0.94      0.89        49\n",
      "\n",
      "    accuracy                           0.89       100\n",
      "   macro avg       0.89      0.89      0.89       100\n",
      "weighted avg       0.89      0.89      0.89       100\n",
      "\n"
     ]
    }
   ],
   "source": [
    "print(classification_report(y_test,y_pred))"
   ]
  },
  {
   "cell_type": "code",
   "execution_count": null,
   "id": "f3b7f8ce",
   "metadata": {},
   "outputs": [],
   "source": []
  }
 ],
 "metadata": {
  "kernelspec": {
   "display_name": "Python 3",
   "language": "python",
   "name": "python3"
  },
  "language_info": {
   "codemirror_mode": {
    "name": "ipython",
    "version": 3
   },
   "file_extension": ".py",
   "mimetype": "text/x-python",
   "name": "python",
   "nbconvert_exporter": "python",
   "pygments_lexer": "ipython3",
   "version": "3.6.13"
  }
 },
 "nbformat": 4,
 "nbformat_minor": 5
}
